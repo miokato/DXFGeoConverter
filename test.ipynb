{
 "cells": [
  {
   "cell_type": "code",
   "execution_count": 22,
   "metadata": {
    "collapsed": true
   },
   "outputs": [],
   "source": [
    "import dxfgrabber\n",
    "import datetime"
   ]
  },
  {
   "cell_type": "code",
   "execution_count": 26,
   "metadata": {},
   "outputs": [
    {
     "data": {
      "text/plain": [
       "[(50.01796331214829, -11.32023925498244, 0.0),\n (61.63189695724828, -34.8526529860785, 0.0),\n (87.60119897983581, -38.62623832584691, 0.0),\n (68.80958114599206, -56.94346651137177, 0.0),\n (73.24565834757401, -82.80786537643345, 0.0),\n (50.01796331214829, -70.59637991941688, 0.0),\n (26.79026827672257, -82.80786537643345, 0.0),\n (31.22634547830453, -56.94346651137177, 0.0),\n (12.43472764446076, -38.62623832584691, 0.0),\n (38.4040296670483, -34.8526529860785, 0.0),\n (50.01796331214829, -11.32023925498244, 0.0)]"
      ]
     },
     "execution_count": 26,
     "metadata": {},
     "output_type": "execute_result"
    }
   ],
   "source": [
    "# read dxf file\n",
    "star = dxfgrabber.readfile('./data/star.dxf')\n",
    "\n",
    "# read entities \n",
    "entities = star.entities\n",
    "\n",
    "# read xy points list\n",
    "list_of_vertices = [entity.points for entity in entities]\n",
    "\n",
    "list_of_vertices[0]"
   ]
  },
  {
   "cell_type": "code",
   "execution_count": 23,
   "metadata": {},
   "outputs": [],
   "source": [
    "def get_vertices(file):\n",
    "    \"\"\"\n",
    "    dxfファイルを渡して、座標のタプルのリストを返す \n",
    "    :param file: dxf file\n",
    "    :return: tuple's list of vertices(x,y,z) \n",
    "    \"\"\"\n",
    "    star = dxfgrabber.readfile(file)\n",
    "    entities = star.entities\n",
    "    # list of x,y,z coodinates\n",
    "    list_of_vertices = [entity.points for entity in entities]\n",
    "    # list of x,y coodinates\n",
    "    # list_of_vertices[0] == ２次元配列のうち利用するのは最初の一つだけ。\n",
    "    list_of_xy = [vertix[0:2] for vertix in list_of_vertices[0]]\n",
    "\n",
    "    return list_of_xy"
   ]
  },
  {
   "cell_type": "code",
   "execution_count": 58,
   "metadata": {},
   "outputs": [
    {
     "name": "stdout",
     "output_type": "stream",
     "text": [
      "POLYLINE [None]\nSOLID [None]\nPOLYLINE [None]\nPOLYLINE [None]\nSOLID [None]\nPOLYLINE [None]\nPOLYLINE [None]\nSOLID [None]\nPOLYLINE [None]\nPOLYLINE [None]\nSOLID [None]\nPOLYLINE [None]\nPOLYLINE [None]\nSOLID [None]\nPOLYLINE [None]\nPOLYLINE [None]\nSOLID [None]\nPOLYLINE [None]\nPOLYLINE [None]\nSOLID [None]\nPOLYLINE [None]\nPOLYLINE [None]\nSOLID [None]\nPOLYLINE [None]\nPOLYLINE [None]\nSOLID [None]\nPOLYLINE [None]\nPOLYLINE [None]\nSOLID [None]\nPOLYLINE [None]\nPOLYLINE [None]\nSOLID [None]\nPOLYLINE [None]\nPOLYLINE [None]\nSOLID [None]\nPOLYLINE [None]\nPOLYLINE [None]\nSOLID [None]\nPOLYLINE [None]\nPOLYLINE [None]\nSOLID [None]\nPOLYLINE [None]\nPOLYLINE [None]\nSOLID [None]\nPOLYLINE [None]\nPOLYLINE [None]\nSOLID [None]\nPOLYLINE [None]\nPOLYLINE [None]\nSOLID [None]\nPOLYLINE [None]\nPOLYLINE [None]\nSOLID [None]\nPOLYLINE [None]\nPOLYLINE [None]\nSOLID [None]\nPOLYLINE [None]\nPOLYLINE [None]\nSOLID [None]\nPOLYLINE [None]\nPOLYLINE [None]\nSOLID [None]\nPOLYLINE [None]\nPOLYLINE [None]\nSOLID [None]\nPOLYLINE [None]\nPOLYLINE [None]\nSOLID [None]\nPOLYLINE [None]\nPOLYLINE [None]\nSOLID [None]\nPOLYLINE [None]\nPOLYLINE [None]\nSOLID [None]\nPOLYLINE [None]\nPOLYLINE [None]\nSOLID [None]\nPOLYLINE [None]\nPOLYLINE [None]\nSOLID [None]\nPOLYLINE [None]\nPOLYLINE [None]\nSOLID [None]\nPOLYLINE [None]\nPOLYLINE [None]\nSOLID [None]\nPOLYLINE [None]\nPOLYLINE [None]\nSOLID [None]\nPOLYLINE [None]\nPOLYLINE [None]\nSOLID [None]\nPOLYLINE [None]\nPOLYLINE [None]\nSOLID [None]\nPOLYLINE [None]\nPOLYLINE [None]\nSOLID [None]\nPOLYLINE [None]\nPOLYLINE [None]\nSOLID [None]\nPOLYLINE [None]\nPOLYLINE [None]\nSOLID [None]\nPOLYLINE [None]\nPOLYLINE [None]\nSOLID [None]\nPOLYLINE [None]\nPOLYLINE [None]\nSOLID [None]\nPOLYLINE [None]\nPOLYLINE [None]\nSOLID [None]\nPOLYLINE [None]\nPOLYLINE [None]\nSOLID [None]\nPOLYLINE [None]\nPOLYLINE [None]\nSOLID [None]\nPOLYLINE [None]\nPOLYLINE [None]\nSOLID [None]\nPOLYLINE [None]\nPOLYLINE [None]\nSOLID [None]\nPOLYLINE [None]\nPOLYLINE [None]\nSOLID [None]\nPOLYLINE [None]\nPOLYLINE [None]\nSOLID [None]\nPOLYLINE [None]\nPOLYLINE [None]\nSOLID [None]\nPOLYLINE [None]\nPOLYLINE [None]\nSOLID [None]\nPOLYLINE [None]\nPOLYLINE [None]\nSOLID [None]\nPOLYLINE [None]\nPOLYLINE [None]\nSOLID [None]\nPOLYLINE [None]\nPOLYLINE [None]\nSOLID [None]\nPOLYLINE [None]\nPOLYLINE [None]\nSOLID [None]\nPOLYLINE [None]\nPOLYLINE [None]\nSOLID [None]\nPOLYLINE [None]\nPOLYLINE [None]\nSOLID [None]\nPOLYLINE [None]\nPOLYLINE [None]\nSOLID [None]\nPOLYLINE [None]\nPOLYLINE [None]\nSOLID [None]\nPOLYLINE [None]\nPOLYLINE [None]\nSOLID [None]\nPOLYLINE [None]\nPOLYLINE [None]\nSOLID [None]\nPOLYLINE [None]\nPOLYLINE [None]\nSOLID [None]\nPOLYLINE [None]\nPOLYLINE [None]\nSOLID [None]\nPOLYLINE [None]\nPOLYLINE [None]\nSOLID [None]\nPOLYLINE [None]\nPOLYLINE [None]\nSOLID [None]\nPOLYLINE [None]\nPOLYLINE [None]\nSOLID [None]\nPOLYLINE [None]\nPOLYLINE [None]\nSOLID [None]\nPOLYLINE [None]\nPOLYLINE [None]\nSOLID [None]\nPOLYLINE [None]\nPOLYLINE [None]\nSOLID [None]\nPOLYLINE [None]\nPOLYLINE [None]\nSOLID [None]\nPOLYLINE [None]\nPOLYLINE [None]\nSOLID [None]\nPOLYLINE [None]\nPOLYLINE [None]\nSOLID [None]\nPOLYLINE [None]\nPOLYLINE [None]\nSOLID [None]\nPOLYLINE [None]\nPOLYLINE [None]\nSOLID [None]\nPOLYLINE [None]\nPOLYLINE [None]\nSOLID [None]\nPOLYLINE [None]\nPOLYLINE [None]\nSOLID [None]\nPOLYLINE [None]\nPOLYLINE [None]\nSOLID [None]\nPOLYLINE [None]\nPOLYLINE [None]\nSOLID [None]\nPOLYLINE [None]\nPOLYLINE [None]\nSOLID [None]\nPOLYLINE [None]\nPOLYLINE [None]\nSOLID [None]\nPOLYLINE [None]\nPOLYLINE [None]\nSOLID [None]\nPOLYLINE [None]\nPOLYLINE [None]\nSOLID [None]\nPOLYLINE [None]\nPOLYLINE [None]\nSOLID [None]\nPOLYLINE [None]\nPOLYLINE [None]\nSOLID [None]\nPOLYLINE [None]\nPOLYLINE [None]\nSOLID [None]\nPOLYLINE [None]\nPOLYLINE [None]\nSOLID [None]\nPOLYLINE [None]\nPOLYLINE [None]\nSOLID [None]\nPOLYLINE [None]\nPOLYLINE [None]\nSOLID [None]\nPOLYLINE [None]\nPOLYLINE [None]\nSOLID [None]\nPOLYLINE [None]\nPOLYLINE [None]\nSOLID [None]\nPOLYLINE [None]\nPOLYLINE [None]\nSOLID [None]\nPOLYLINE [None]\nPOLYLINE [None]\nSOLID [None]\nPOLYLINE [None]\nPOLYLINE [None]\nSOLID [None]\nPOLYLINE [None]\nPOLYLINE [None]\nSOLID [None]\nPOLYLINE [None]\nPOLYLINE [None]\nSOLID [None]\nPOLYLINE [None]\nPOLYLINE [None]\nSOLID [None]\nPOLYLINE [None]\nPOLYLINE [None]\nSOLID [None]\nPOLYLINE [None]\nPOLYLINE [None]\nSOLID [None]\nPOLYLINE [None]\nPOLYLINE [None]\nSOLID [None]\nPOLYLINE [None]\nPOLYLINE [None]\nSOLID [None]\nPOLYLINE [None]\nPOLYLINE [None]\nSOLID [None]\nPOLYLINE [None]\nPOLYLINE [None]\nSOLID [None]\nPOLYLINE [None]\nPOLYLINE [None]\nSOLID [None]\nPOLYLINE [None]\nPOLYLINE [None]\nSOLID [None]\nPOLYLINE [None]\nPOLYLINE [None]\nSOLID [None]\nPOLYLINE [None]\n"
     ]
    }
   ],
   "source": [
    "file = './data/rectangle.dxf'\n",
    "dxf = dxfgrabber.readfile(file)\n",
    "entities = dxf.entities\n",
    "for entity in entities:\n",
    "    if entity"
   ]
  },
  {
   "cell_type": "code",
   "execution_count": null,
   "metadata": {},
   "outputs": [],
   "source": [
    ""
   ]
  }
 ],
 "metadata": {
  "kernelspec": {
   "display_name": "Python 2",
   "language": "python",
   "name": "python2"
  },
  "language_info": {
   "codemirror_mode": {
    "name": "ipython",
    "version": 2.0
   },
   "file_extension": ".py",
   "mimetype": "text/x-python",
   "name": "python",
   "nbconvert_exporter": "python",
   "pygments_lexer": "ipython2",
   "version": "2.7.6"
  }
 },
 "nbformat": 4,
 "nbformat_minor": 0
}